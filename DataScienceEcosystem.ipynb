{
 "cells": [
  {
   "cell_type": "markdown",
   "id": "115fcdae-d854-4337-9b60-87cc8252e633",
   "metadata": {},
   "source": [
    "# Data Science Tools and Ecosystem"
   ]
  },
  {
   "cell_type": "markdown",
   "id": "6e01d639-f796-4e7e-b042-924344017aab",
   "metadata": {},
   "source": [
    "**Objectives:**\n",
    "- List popular languages for Data Science\n",
    "- Data Science Tools\n",
    "- Evaluating arithmetic expressions"
   ]
  },
  {
   "cell_type": "markdown",
   "id": "5bc260c6-5683-4592-bc70-8844c686d11d",
   "metadata": {},
   "source": [
    "In this notebook, Data Science Tools and Ecosystem are summarized."
   ]
  },
  {
   "cell_type": "markdown",
   "id": "15625552-7974-47cc-9ff7-69e07b071516",
   "metadata": {},
   "source": [
    "Some of the popular languages that Data Scientists use are:\n",
    "\n",
    "1. **Python** \n",
    "2. **R** \n",
    "3. **SQL** "
   ]
  },
  {
   "cell_type": "markdown",
   "id": "054a5f9d-6d16-4317-ac74-a23a6f686528",
   "metadata": {},
   "source": [
    "Some of the commonly used libraries used by Data Scientists include:\n",
    "\n",
    "1. **NumPy** \n",
    "2. **Pandas** \n",
    "3. **TensorFlow** "
   ]
  },
  {
   "cell_type": "markdown",
   "id": "704e50a8-7003-4e56-9d0f-7d3397830a64",
   "metadata": {},
   "source": [
    "| Data Science Tools |\n",
    "| ------------------ |\n",
    "| Jupyter Notebook |\n",
    "| RStudio |\n",
    "| Apache Zeppelin |"
   ]
  },
  {
   "cell_type": "markdown",
   "id": "d6da6d82-4be9-4ee0-aa0e-8611d2cc7089",
   "metadata": {},
   "source": [
    "### Below are a few examples of evaluating arithmetic expressions in Python"
   ]
  },
  {
   "cell_type": "code",
   "execution_count": 2,
   "id": "035cbeb9-ced8-4555-b868-b2e856e316c6",
   "metadata": {},
   "outputs": [
    {
     "data": {
      "text/plain": [
       "17"
      ]
     },
     "execution_count": 2,
     "metadata": {},
     "output_type": "execute_result"
    }
   ],
   "source": [
    "(3*4)+5\n",
    "# This a simple arithmetic expression to mutiply then add integers"
   ]
  },
  {
   "cell_type": "code",
   "execution_count": 3,
   "id": "baa28f96-1f53-4826-9e3b-315f08beebbf",
   "metadata": {},
   "outputs": [
    {
     "data": {
      "text/plain": [
       "3.3333333333333335"
      ]
     },
     "execution_count": 3,
     "metadata": {},
     "output_type": "execute_result"
    }
   ],
   "source": [
    "# This will convert 200 minutes to hours by dividing by 60\n",
    "minutes = 200\n",
    "hours = minutes / 60\n",
    "hours"
   ]
  },
  {
   "cell_type": "markdown",
   "id": "f895982c-ee0f-4f94-9be2-89cbeb6801b6",
   "metadata": {},
   "source": [
    "## Author\n",
    "Elena"
   ]
  },
  {
   "cell_type": "code",
   "execution_count": null,
   "id": "2d71da2e-ae48-4c79-9e97-1e1f4218e612",
   "metadata": {},
   "outputs": [],
   "source": []
  }
 ],
 "metadata": {
  "kernelspec": {
   "display_name": "Python 3 (ipykernel)",
   "language": "python",
   "name": "python3"
  },
  "language_info": {
   "codemirror_mode": {
    "name": "ipython",
    "version": 3
   },
   "file_extension": ".py",
   "mimetype": "text/x-python",
   "name": "python",
   "nbconvert_exporter": "python",
   "pygments_lexer": "ipython3",
   "version": "3.13.0"
  }
 },
 "nbformat": 4,
 "nbformat_minor": 5
}
